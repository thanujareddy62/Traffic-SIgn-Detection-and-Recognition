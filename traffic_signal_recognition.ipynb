{
 "cells": [
  {
   "cell_type": "markdown",
   "metadata": {},
   "source": [
    "## Import required libraries"
   ]
  },
  {
   "cell_type": "code",
   "execution_count": 1,
   "metadata": {},
   "outputs": [
    {
     "name": "stderr",
     "output_type": "stream",
     "text": [
      "2024-12-02 08:37:19.266390: I external/local_xla/xla/tsl/cuda/cudart_stub.cc:32] Could not find cuda drivers on your machine, GPU will not be used.\n",
      "2024-12-02 08:37:26.656948: I external/local_xla/xla/tsl/cuda/cudart_stub.cc:32] Could not find cuda drivers on your machine, GPU will not be used.\n",
      "2024-12-02 08:37:32.656629: E external/local_xla/xla/stream_executor/cuda/cuda_fft.cc:477] Unable to register cuFFT factory: Attempting to register factory for plugin cuFFT when one has already been registered\n",
      "WARNING: All log messages before absl::InitializeLog() is called are written to STDERR\n",
      "E0000 00:00:1733108857.428885   11755 cuda_dnn.cc:8310] Unable to register cuDNN factory: Attempting to register factory for plugin cuDNN when one has already been registered\n",
      "E0000 00:00:1733108858.682886   11755 cuda_blas.cc:1418] Unable to register cuBLAS factory: Attempting to register factory for plugin cuBLAS when one has already been registered\n",
      "2024-12-02 08:37:44.173124: I tensorflow/core/platform/cpu_feature_guard.cc:210] This TensorFlow binary is optimized to use available CPU instructions in performance-critical operations.\n",
      "To enable the following instructions: AVX2 FMA, in other operations, rebuild TensorFlow with the appropriate compiler flags.\n"
     ]
    }
   ],
   "source": [
    "import numpy as np \n",
    "import pandas as pd \n",
    "import matplotlib.pyplot as plt\n",
    "import cv2\n",
    "import tensorflow as tf\n",
    "from PIL import Image\n",
    "import os\n",
    "os.chdir('/home/student/Desktop/Traffic_Signs_WebApp-master/Traffic_Signs_WebApp-master')\n",
    "from sklearn.model_selection import train_test_split\n",
    "from keras.utils import to_categorical\n",
    "from keras.models import Sequential, load_model\n",
    "from keras.layers import Conv2D, MaxPool2D, Dense, Flatten, Dropout"
   ]
  },
  {
   "cell_type": "code",
   "execution_count": 2,
   "metadata": {},
   "outputs": [],
   "source": [
    "#pip install opencv-python"
   ]
  },
  {
   "cell_type": "markdown",
   "metadata": {},
   "source": [
    "## Store data, labels in the list"
   ]
  },
  {
   "cell_type": "code",
   "execution_count": 3,
   "metadata": {},
   "outputs": [],
   "source": [
    "data = []\n",
    "labels = []\n",
    "# We have 43 Classes\n",
    "classes = 43\n",
    "cur_path = os.getcwd()"
   ]
  },
  {
   "cell_type": "code",
   "execution_count": 4,
   "metadata": {},
   "outputs": [
    {
     "data": {
      "text/plain": [
       "'/home/student/Desktop/Traffic_Signs_WebApp-master/Traffic_Signs_WebApp-master'"
      ]
     },
     "execution_count": 4,
     "metadata": {},
     "output_type": "execute_result"
    }
   ],
   "source": [
    "cur_path"
   ]
  },
  {
   "cell_type": "markdown",
   "metadata": {},
   "source": [
    "## Preprocess the images"
   ]
  },
  {
   "cell_type": "code",
   "execution_count": 5,
   "metadata": {},
   "outputs": [
    {
     "name": "stdout",
     "output_type": "stream",
     "text": [
      "Data shape: (39209, 30, 30, 3)\n",
      "Labels shape: (39209,)\n"
     ]
    }
   ],
   "source": [
    "import os\n",
    "import numpy as np\n",
    "from PIL import Image\n",
    "\n",
    "\n",
    "data = []  # Initialize as a list\n",
    "labels = []  # Initialize as a list\n",
    "\n",
    "for i in range(classes):\n",
    "    path = os.path.join(cur_path, 'train', str(i))\n",
    "    images = os.listdir(path)\n",
    "    for a in images:\n",
    "        try:\n",
    "            image_path = os.path.join(path, a)\n",
    "            image = Image.open(image_path)\n",
    "            image = image.resize((30, 30))  # Resize to 30x30\n",
    "            image = np.array(image)  # Convert to NumPy array\n",
    "            data.append(image)  # Append image data to list\n",
    "            labels.append(i)    # Append label to list\n",
    "        except Exception as e:\n",
    "            print(f\"Error processing image {a}: {e}\")\n",
    "\n",
    "# Convert lists to NumPy arrays after appending\n",
    "data = np.array(data)\n",
    "labels = np.array(labels)\n",
    "\n",
    "print(f\"Data shape: {data.shape}\")\n",
    "print(f\"Labels shape: {labels.shape}\")\n",
    "\n"
   ]
  },
  {
   "cell_type": "markdown",
   "metadata": {},
   "source": [
    "## Converting lists into numpy arrays"
   ]
  },
  {
   "cell_type": "code",
   "execution_count": 6,
   "metadata": {},
   "outputs": [],
   "source": [
    "data = np.array(data)\n",
    "labels = np.array(labels)"
   ]
  },
  {
   "cell_type": "markdown",
   "metadata": {},
   "source": [
    "## Save Labels & Data for future use"
   ]
  },
  {
   "cell_type": "code",
   "execution_count": 7,
   "metadata": {},
   "outputs": [],
   "source": [
    "# os.mkdir('training')\n",
    "\n",
    "np.save('./training/data',data)\n",
    "np.save('./training/target',labels)"
   ]
  },
  {
   "cell_type": "markdown",
   "metadata": {},
   "source": [
    "## Load data & Labels"
   ]
  },
  {
   "cell_type": "code",
   "execution_count": 8,
   "metadata": {},
   "outputs": [],
   "source": [
    "data=np.load('./training/data.npy')\n",
    "labels=np.load('./training/target.npy')"
   ]
  },
  {
   "cell_type": "code",
   "execution_count": 9,
   "metadata": {},
   "outputs": [
    {
     "name": "stdout",
     "output_type": "stream",
     "text": [
      "(39209, 30, 30, 3) (39209,)\n"
     ]
    }
   ],
   "source": [
    "print(data.shape, labels.shape)"
   ]
  },
  {
   "cell_type": "code",
   "execution_count": 10,
   "metadata": {},
   "outputs": [],
   "source": [
    "from sklearn.model_selection import train_test_split\n",
    "X_train, X_test, y_train, y_test = train_test_split(data, labels, test_size=0.2, random_state=0)"
   ]
  },
  {
   "cell_type": "code",
   "execution_count": 11,
   "metadata": {},
   "outputs": [
    {
     "name": "stdout",
     "output_type": "stream",
     "text": [
      "(31367, 30, 30, 3) (7842, 30, 30, 3) (31367,) (7842,)\n"
     ]
    }
   ],
   "source": [
    "print(X_train.shape, X_test.shape, y_train.shape, y_test.shape)"
   ]
  },
  {
   "cell_type": "markdown",
   "metadata": {},
   "source": [
    "## Convert labels to onehot encoding"
   ]
  },
  {
   "cell_type": "code",
   "execution_count": 12,
   "metadata": {},
   "outputs": [],
   "source": [
    "y_train = to_categorical(y_train, 43)\n",
    "y_test = to_categorical(y_test, 43)"
   ]
  },
  {
   "cell_type": "markdown",
   "metadata": {},
   "source": [
    "## Now it's time to build the model"
   ]
  },
  {
   "cell_type": "code",
   "execution_count": 13,
   "metadata": {},
   "outputs": [
    {
     "name": "stderr",
     "output_type": "stream",
     "text": [
      "/home/student/anaconda3/lib/python3.10/site-packages/keras/src/layers/convolutional/base_conv.py:107: UserWarning: Do not pass an `input_shape`/`input_dim` argument to a layer. When using Sequential models, prefer using an `Input(shape)` object as the first layer in the model instead.\n",
      "  super().__init__(activity_regularizer=activity_regularizer, **kwargs)\n",
      "2024-12-02 08:51:23.592846: E external/local_xla/xla/stream_executor/cuda/cuda_driver.cc:152] failed call to cuInit: INTERNAL: CUDA error: Failed call to cuInit: UNKNOWN ERROR (303)\n"
     ]
    }
   ],
   "source": [
    "model = Sequential()\n",
    "model.add(Conv2D(filters=32, kernel_size=(5,5), activation='relu', input_shape=X_train.shape[1:]))\n",
    "model.add(Conv2D(filters=32, kernel_size=(5,5), activation='relu'))\n",
    "model.add(MaxPool2D(pool_size=(2, 2)))\n",
    "model.add(Dropout(rate=0.25))\n",
    "model.add(Conv2D(filters=64, kernel_size=(3, 3), activation='relu'))\n",
    "model.add(Conv2D(filters=64, kernel_size=(3, 3), activation='relu'))\n",
    "model.add(MaxPool2D(pool_size=(2, 2)))\n",
    "model.add(Dropout(rate=0.25))\n",
    "model.add(Flatten())\n",
    "model.add(Dense(256, activation='relu'))\n",
    "model.add(Dropout(rate=0.5))\n",
    "# We have 43 classes that's why we have defined 43 in the dense\n",
    "model.add(Dense(43, activation='softmax'))"
   ]
  },
  {
   "cell_type": "code",
   "execution_count": 14,
   "metadata": {},
   "outputs": [],
   "source": [
    "#Compilation of the model\n",
    "model.compile(loss='categorical_crossentropy', optimizer='adam', metrics=['accuracy'])"
   ]
  },
  {
   "cell_type": "code",
   "execution_count": 15,
   "metadata": {},
   "outputs": [],
   "source": [
    "epochs = 20"
   ]
  },
  {
   "cell_type": "code",
   "execution_count": 16,
   "metadata": {},
   "outputs": [
    {
     "name": "stderr",
     "output_type": "stream",
     "text": [
      "2024-12-02 08:51:38.292626: W external/local_xla/xla/tsl/framework/cpu_allocator_impl.cc:83] Allocation of 84690900 exceeds 10% of free system memory.\n"
     ]
    },
    {
     "name": "stdout",
     "output_type": "stream",
     "text": [
      "Epoch 1/20\n"
     ]
    },
    {
     "name": "stderr",
     "output_type": "stream",
     "text": [
      "2024-12-02 08:51:53.122189: W external/local_xla/xla/tsl/framework/cpu_allocator_impl.cc:83] Allocation of 13095936 exceeds 10% of free system memory.\n",
      "2024-12-02 08:51:53.185894: W external/local_xla/xla/tsl/framework/cpu_allocator_impl.cc:83] Allocation of 13095936 exceeds 10% of free system memory.\n",
      "2024-12-02 08:51:53.252529: W external/local_xla/xla/tsl/framework/cpu_allocator_impl.cc:83] Allocation of 15676416 exceeds 10% of free system memory.\n",
      "2024-12-02 08:51:53.252895: W external/local_xla/xla/tsl/framework/cpu_allocator_impl.cc:83] Allocation of 15676416 exceeds 10% of free system memory.\n"
     ]
    },
    {
     "name": "stdout",
     "output_type": "stream",
     "text": [
      "\u001b[1m981/981\u001b[0m \u001b[32m━━━━━━━━━━━━━━━━━━━━\u001b[0m\u001b[37m\u001b[0m \u001b[1m239s\u001b[0m 229ms/step - accuracy: 0.2907 - loss: 3.2732 - val_accuracy: 0.7916 - val_loss: 0.7825\n",
      "Epoch 2/20\n",
      "\u001b[1m981/981\u001b[0m \u001b[32m━━━━━━━━━━━━━━━━━━━━\u001b[0m\u001b[37m\u001b[0m \u001b[1m214s\u001b[0m 218ms/step - accuracy: 0.6926 - loss: 1.0124 - val_accuracy: 0.8952 - val_loss: 0.3947\n",
      "Epoch 3/20\n",
      "\u001b[1m981/981\u001b[0m \u001b[32m━━━━━━━━━━━━━━━━━━━━\u001b[0m\u001b[37m\u001b[0m \u001b[1m270s\u001b[0m 226ms/step - accuracy: 0.7750 - loss: 0.7345 - val_accuracy: 0.9223 - val_loss: 0.2862\n",
      "Epoch 4/20\n",
      "\u001b[1m981/981\u001b[0m \u001b[32m━━━━━━━━━━━━━━━━━━━━\u001b[0m\u001b[37m\u001b[0m \u001b[1m211s\u001b[0m 215ms/step - accuracy: 0.8169 - loss: 0.6175 - val_accuracy: 0.9480 - val_loss: 0.1961\n",
      "Epoch 5/20\n",
      "\u001b[1m981/981\u001b[0m \u001b[32m━━━━━━━━━━━━━━━━━━━━\u001b[0m\u001b[37m\u001b[0m \u001b[1m224s\u001b[0m 228ms/step - accuracy: 0.8343 - loss: 0.5369 - val_accuracy: 0.9475 - val_loss: 0.1918\n",
      "Epoch 6/20\n",
      "\u001b[1m981/981\u001b[0m \u001b[32m━━━━━━━━━━━━━━━━━━━━\u001b[0m\u001b[37m\u001b[0m \u001b[1m266s\u001b[0m 232ms/step - accuracy: 0.8459 - loss: 0.5031 - val_accuracy: 0.9569 - val_loss: 0.1571\n",
      "Epoch 7/20\n",
      "\u001b[1m981/981\u001b[0m \u001b[32m━━━━━━━━━━━━━━━━━━━━\u001b[0m\u001b[37m\u001b[0m \u001b[1m221s\u001b[0m 225ms/step - accuracy: 0.8525 - loss: 0.4815 - val_accuracy: 0.9489 - val_loss: 0.1687\n",
      "Epoch 8/20\n",
      "\u001b[1m981/981\u001b[0m \u001b[32m━━━━━━━━━━━━━━━━━━━━\u001b[0m\u001b[37m\u001b[0m \u001b[1m266s\u001b[0m 230ms/step - accuracy: 0.8566 - loss: 0.4654 - val_accuracy: 0.9609 - val_loss: 0.1401\n",
      "Epoch 9/20\n",
      "\u001b[1m981/981\u001b[0m \u001b[32m━━━━━━━━━━━━━━━━━━━━\u001b[0m\u001b[37m\u001b[0m \u001b[1m225s\u001b[0m 229ms/step - accuracy: 0.8678 - loss: 0.4231 - val_accuracy: 0.9603 - val_loss: 0.1323\n",
      "Epoch 10/20\n",
      "\u001b[1m981/981\u001b[0m \u001b[32m━━━━━━━━━━━━━━━━━━━━\u001b[0m\u001b[37m\u001b[0m \u001b[1m263s\u001b[0m 231ms/step - accuracy: 0.8704 - loss: 0.4222 - val_accuracy: 0.9630 - val_loss: 0.1209\n",
      "Epoch 11/20\n",
      "\u001b[1m981/981\u001b[0m \u001b[32m━━━━━━━━━━━━━━━━━━━━\u001b[0m\u001b[37m\u001b[0m \u001b[1m245s\u001b[0m 214ms/step - accuracy: 0.8783 - loss: 0.3842 - val_accuracy: 0.9594 - val_loss: 0.1364\n",
      "Epoch 12/20\n",
      "\u001b[1m981/981\u001b[0m \u001b[32m━━━━━━━━━━━━━━━━━━━━\u001b[0m\u001b[37m\u001b[0m \u001b[1m262s\u001b[0m 214ms/step - accuracy: 0.8811 - loss: 0.3901 - val_accuracy: 0.9703 - val_loss: 0.1086\n",
      "Epoch 13/20\n",
      "\u001b[1m981/981\u001b[0m \u001b[32m━━━━━━━━━━━━━━━━━━━━\u001b[0m\u001b[37m\u001b[0m \u001b[1m213s\u001b[0m 217ms/step - accuracy: 0.8875 - loss: 0.3750 - val_accuracy: 0.9611 - val_loss: 0.1202\n",
      "Epoch 14/20\n",
      "\u001b[1m981/981\u001b[0m \u001b[32m━━━━━━━━━━━━━━━━━━━━\u001b[0m\u001b[37m\u001b[0m \u001b[1m259s\u001b[0m 213ms/step - accuracy: 0.8940 - loss: 0.3584 - val_accuracy: 0.9663 - val_loss: 0.1098\n",
      "Epoch 15/20\n",
      "\u001b[1m981/981\u001b[0m \u001b[32m━━━━━━━━━━━━━━━━━━━━\u001b[0m\u001b[37m\u001b[0m \u001b[1m262s\u001b[0m 213ms/step - accuracy: 0.8891 - loss: 0.3675 - val_accuracy: 0.9541 - val_loss: 0.1472\n",
      "Epoch 16/20\n",
      "\u001b[1m981/981\u001b[0m \u001b[32m━━━━━━━━━━━━━━━━━━━━\u001b[0m\u001b[37m\u001b[0m \u001b[1m263s\u001b[0m 215ms/step - accuracy: 0.8881 - loss: 0.3650 - val_accuracy: 0.9597 - val_loss: 0.1349\n",
      "Epoch 17/20\n",
      "\u001b[1m981/981\u001b[0m \u001b[32m━━━━━━━━━━━━━━━━━━━━\u001b[0m\u001b[37m\u001b[0m \u001b[1m274s\u001b[0m 227ms/step - accuracy: 0.8858 - loss: 0.3780 - val_accuracy: 0.9672 - val_loss: 0.1148\n",
      "Epoch 18/20\n",
      "\u001b[1m981/981\u001b[0m \u001b[32m━━━━━━━━━━━━━━━━━━━━\u001b[0m\u001b[37m\u001b[0m \u001b[1m250s\u001b[0m 215ms/step - accuracy: 0.8946 - loss: 0.3508 - val_accuracy: 0.9722 - val_loss: 0.1038\n",
      "Epoch 19/20\n",
      "\u001b[1m981/981\u001b[0m \u001b[32m━━━━━━━━━━━━━━━━━━━━\u001b[0m\u001b[37m\u001b[0m \u001b[1m262s\u001b[0m 215ms/step - accuracy: 0.8967 - loss: 0.3450 - val_accuracy: 0.9667 - val_loss: 0.1206\n",
      "Epoch 20/20\n",
      "\u001b[1m981/981\u001b[0m \u001b[32m━━━━━━━━━━━━━━━━━━━━\u001b[0m\u001b[37m\u001b[0m \u001b[1m272s\u001b[0m 226ms/step - accuracy: 0.8903 - loss: 0.3697 - val_accuracy: 0.9694 - val_loss: 0.1046\n"
     ]
    }
   ],
   "source": [
    "history = model.fit(X_train, y_train, batch_size=32, epochs=epochs, validation_data=(X_test, y_test))"
   ]
  },
  {
   "cell_type": "code",
   "execution_count": 17,
   "metadata": {},
   "outputs": [
    {
     "data": {
      "image/png": "[encoded data removed]",
      "text/plain": [
       "<Figure size 640x480 with 1 Axes>"
      ]
     },
     "metadata": {},
     "output_type": "display_data"
    }
   ],
   "source": [
    "# accuracy \n",
    "plt.figure(0)\n",
    "plt.plot(history.history['accuracy'], label='training accuracy')\n",
    "plt.plot(history.history['val_accuracy'], label='val accuracy')\n",
    "plt.title('Accuracy')\n",
    "plt.xlabel('epochs')\n",
    "plt.ylabel('accuracy')\n",
    "plt.legend()\n",
    "plt.show()"
   ]
  },
  {
   "cell_type": "code",
   "execution_count": 18,
   "metadata": {},
   "outputs": [
    {
     "data": {
      "image/png": "[encoded data removed]",
      "text/plain": [
       "<Figure size 640x480 with 1 Axes>"
      ]
     },
     "metadata": {},
     "output_type": "display_data"
    }
   ],
   "source": [
    "# Loss\n",
    "plt.plot(history.history['loss'], label='training loss')\n",
    "plt.plot(history.history['val_loss'], label='val loss')\n",
    "plt.title('Loss')\n",
    "plt.xlabel('epochs')\n",
    "plt.ylabel('loss')\n",
    "plt.legend()\n",
    "plt.show()"
   ]
  },
  {
   "cell_type": "markdown",
   "metadata": {},
   "source": [
    "## LEt's do testing on Test data"
   ]
  },
  {
   "cell_type": "code",
   "execution_count": 19,
   "metadata": {},
   "outputs": [],
   "source": [
    "def testing(testcsv, base_path='/home/student/Desktop/Traffic_Signs_WebApp-master/Traffic_Signs_WebApp-master/'):\n",
    "    # Read CSV file containing image paths and labels\n",
    "    y_test = pd.read_csv(testcsv)\n",
    "    label = y_test[\"ClassId\"].values\n",
    "    imgs = y_test[\"Path\"].values\n",
    "    data = []\n",
    "    \n",
    "    for img in imgs:\n",
    "        # Construct the full path by joining base path and the relative image path\n",
    "        img_path = os.path.join(base_path, 'data', img)  # Make sure 'data' folder is included\n",
    "        try:\n",
    "            image = Image.open(img_path).convert('RGB')\n",
    "            image = image.resize((30, 30))  # Resize image to 30x30 pixels\n",
    "            data.append(np.array(image))  # Append the image to the data list\n",
    "        except FileNotFoundError:\n",
    "            print(f\"File not found: {img_path}\")  # Print error if file is not found\n",
    "    \n",
    "    X_test = np.array(data)  # Convert data to a numpy array\n",
    "    return X_test, label  # Return the test data and labels\n",
    "\n",
    "# Example of using the testing function\n",
    "X_test, label = testing('/home/student/Desktop/Traffic_Signs_WebApp-master/Traffic_Signs_WebApp-master/data/Test.csv')"
   ]
  },
  {
   "cell_type": "code",
   "execution_count": 20,
   "metadata": {},
   "outputs": [],
   "source": [
    "def testing(testcsv, base_path='/home/student/Desktop/Traffic_Signs_WebApp-master/Traffic_Signs_WebApp-master/'):\n",
    "    # Read CSV file containing image paths and labels\n",
    "    y_test = pd.read_csv(testcsv)\n",
    "    label = y_test[\"ClassId\"].values\n",
    "    imgs = y_test[\"Path\"].values\n",
    "    data = []\n",
    "    \n",
    "    for img in imgs:\n",
    "        # Construct the full path by joining base path and the relative image path\n",
    "        img_path = os.path.join(base_path, 'data', img)  # Make sure 'data' folder is included\n",
    "        try:\n",
    "            image = Image.open(img_path).convert('RGB')\n",
    "            image = image.resize((30, 30))  # Resize image to 30x30 pixels\n",
    "            data.append(np.array(image))  # Append the image to the data list\n",
    "        except FileNotFoundError:\n",
    "            print(f\"File not found: {img_path}\")  # Print error if file is not found\n",
    "    \n",
    "    X_test = np.array(data)  # Convert data to a numpy array\n",
    "    return X_test, label  # Return the test data and labels\n",
    "\n",
    "# Example of using the testing function\n",
    "X_test, label = testing('/home/student/Desktop/Traffic_Signs_WebApp-master/Traffic_Signs_WebApp-master/data/Test.csv')"
   ]
  },
  {
   "cell_type": "code",
   "execution_count": 21,
   "metadata": {},
   "outputs": [
    {
     "name": "stdout",
     "output_type": "stream",
     "text": [
      "\u001b[1m395/395\u001b[0m \u001b[32m━━━━━━━━━━━━━━━━━━━━\u001b[0m\u001b[37m\u001b[0m \u001b[1m21s\u001b[0m 51ms/step\n",
      "[16  1 38 ...  5  7 10]\n"
     ]
    }
   ],
   "source": [
    "# Get predictions from the model\n",
    "pred_probs = model.predict(X_test)\n",
    "\n",
    "# Get the class with the highest probability for each test sample\n",
    "Y_pred = np.argmax(pred_probs, axis=1)\n",
    "\n",
    "print(Y_pred)\n"
   ]
  },
  {
   "cell_type": "markdown",
   "metadata": {},
   "source": [
    "## Accuracy with the test data"
   ]
  },
  {
   "cell_type": "code",
   "execution_count": 22,
   "metadata": {},
   "outputs": [
    {
     "name": "stdout",
     "output_type": "stream",
     "text": [
      "0.922486144101346\n"
     ]
    }
   ],
   "source": [
    "from sklearn.metrics import accuracy_score\n",
    "print(accuracy_score(label, Y_pred))"
   ]
  },
  {
   "cell_type": "markdown",
   "metadata": {},
   "source": [
    "## Save the model"
   ]
  },
  {
   "cell_type": "code",
   "execution_count": 23,
   "metadata": {},
   "outputs": [
    {
     "name": "stderr",
     "output_type": "stream",
     "text": [
      "WARNING:absl:You are saving your model as an HDF5 file via `model.save()` or `keras.saving.save_model(model)`. This file format is considered legacy. We recommend using instead the native Keras format, e.g. `model.save('my_model.keras')` or `keras.saving.save_model(model, 'my_model.keras')`. \n"
     ]
    }
   ],
   "source": [
    "model.save(\"./training/TSR.h5\")"
   ]
  },
  {
   "cell_type": "markdown",
   "metadata": {},
   "source": [
    "## Load the Model"
   ]
  },
  {
   "cell_type": "code",
   "execution_count": 24,
   "metadata": {},
   "outputs": [
    {
     "name": "stderr",
     "output_type": "stream",
     "text": [
      "WARNING:absl:Compiled the loaded model, but the compiled metrics have yet to be built. `model.compile_metrics` will be empty until you train or evaluate the model.\n"
     ]
    }
   ],
   "source": [
    "import os\n",
    "os.chdir(r'/home/student/Desktop/Traffic_Signs_WebApp-master/Traffic_Signs_WebApp-master')\n",
    "from keras.models import load_model\n",
    "model = load_model(r'./training/TSR.h5')"
   ]
  },
  {
   "cell_type": "code",
   "execution_count": 25,
   "metadata": {},
   "outputs": [],
   "source": [
    "# Classes of trafic signs\n",
    "classes = {\n",
    "    0: 'Speed limit (20km/h)',\n",
    "    1: 'Speed limit (30km/h)',\n",
    "    2: 'Speed limit (50km/h)',\n",
    "    3: 'Speed limit (60km/h)',\n",
    "    4: 'Speed limit (70km/h)',\n",
    "    5: 'Speed limit (80km/h)',\n",
    "    6: 'End of speed limit (80km/h)',\n",
    "    7: 'Speed limit (100km/h)',\n",
    "    8: 'Speed limit (120km/h)',\n",
    "    9: 'No passing',\n",
    "    10: 'No passing vehicles over 3.5 tons',\n",
    "    11: 'Right-of-way at intersection',\n",
    "    12: 'Priority road',\n",
    "    13: 'Yield',\n",
    "    14: 'Stop',\n",
    "    15: 'No vehicles',\n",
    "    16: 'Vehicles > 3.5 tons prohibited',\n",
    "    17: 'No entry',\n",
    "    18: 'General caution',\n",
    "    19: 'Dangerous curve left',\n",
    "    20: 'Dangerous curve right',\n",
    "    21: 'Double curve',\n",
    "    22: 'Bumpy road',\n",
    "    23: 'Slippery road',\n",
    "    24: 'Road narrows on the right',\n",
    "    25: 'Road work',\n",
    "    26: 'Traffic signals',\n",
    "    27: 'Pedestrians',\n",
    "    28: 'Children crossing',\n",
    "    29: 'Bicycles crossing',\n",
    "    30: 'Beware of ice/snow',\n",
    "    31: 'Wild animals crossing',\n",
    "    32: 'End of speed and passing limits',\n",
    "    33: 'Turn right ahead',\n",
    "    34: 'Turn left ahead',\n",
    "    35: 'Ahead only',\n",
    "    36: 'Go straight or right',\n",
    "    37: 'Go straight or left',\n",
    "    38: 'Keep right',\n",
    "    39: 'Keep left',\n",
    "    40: 'Roundabout mandatory',\n",
    "    41: 'End of no passing',\n",
    "    42: 'End of no passing vehicles > 3.5 tons'\n",
    "}\n"
   ]
  },
  {
   "cell_type": "code",
   "execution_count": 26,
   "metadata": {},
   "outputs": [
    {
     "name": "stderr",
     "output_type": "stream",
     "text": [
      "WARNING:absl:Compiled the loaded model, but the compiled metrics have yet to be built. `model.compile_metrics` will be empty until you train or evaluate the model.\n"
     ]
    }
   ],
   "source": [
    "from keras.models import load_model\n",
    "import numpy as np\n",
    "from PIL import Image\n",
    "\n",
    "# Ensure the model is loaded\n",
    "model = load_model('/home/student/Desktop/Traffic_Signs_WebApp-master/Traffic_Signs_WebApp-master/training/TSR.h5')\n",
    "\n",
    "def test_on_img(img):\n",
    "    data = []\n",
    "    image = Image.open(img).convert('RGB')  # Ensure the image is in RGB format\n",
    "    image = image.resize((30, 30))  # Resize image to 30x30 pixels\n",
    "    data.append(np.array(image))  # Append image to the data list\n",
    "    X_test = np.array(data)  # Convert the list to a numpy array\n",
    "    \n",
    "    # Use model.predict and np.argmax to get the predicted class\n",
    "    predictions = model.predict(X_test)\n",
    "    Y_pred = np.argmax(predictions, axis=1)  # Get the index of the max value in predictions\n",
    "    \n",
    "    return image, Y_pred\n"
   ]
  },
  {
   "cell_type": "code",
   "execution_count": 27,
   "metadata": {},
   "outputs": [
    {
     "name": "stdout",
     "output_type": "stream",
     "text": [
      "\u001b[1m1/1\u001b[0m \u001b[32m━━━━━━━━━━━━━━━━━━━━\u001b[0m\u001b[37m\u001b[0m \u001b[1m1s\u001b[0m 660ms/step\n",
      "Predicted traffic sign is: Bumpy road\n"
     ]
    },
    {
     "data": {
      "image/png": "[encoded data removed]",
      "text/plain": [
       "<Figure size 640x480 with 1 Axes>"
      ]
     },
     "metadata": {},
     "output_type": "display_data"
    }
   ],
   "source": [
    "import matplotlib.pyplot as plt\n",
    "\n",
    "# Test the function with your image path\n",
    "plot, prediction = test_on_img('/home/student/Desktop/Traffic_Signs_WebApp-master/Traffic_Signs_WebApp-master/data/Test/00500.png')\n",
    "s = [str(i) for i in prediction]\n",
    "a = int(\"\".join(s))\n",
    "print(\"Predicted traffic sign is:\", classes[a])\n",
    "\n",
    "# Display the image\n",
    "plt.imshow(plot)\n",
    "plt.axis('off')  # Remove axes\n",
    "plt.show()\n"
   ]
  },
  {
   "cell_type": "code",
   "execution_count": 28,
   "metadata": {},
   "outputs": [
    {
     "name": "stdout",
     "output_type": "stream",
     "text": [
      "\u001b[1m1/1\u001b[0m \u001b[32m━━━━━━━━━━━━━━━━━━━━\u001b[0m\u001b[37m\u001b[0m \u001b[1m0s\u001b[0m 37ms/step\n",
      "Predicted traffic sign is: Speed limit (100km/h)\n"
     ]
    },
    {
     "data": {
      "image/png": "[encoded data removed]",
      "text/plain": [
       "<Figure size 640x480 with 1 Axes>"
      ]
     },
     "metadata": {},
     "output_type": "display_data"
    }
   ],
   "source": [
    "import matplotlib.pyplot as plt\n",
    "\n",
    "# Test the function with your image path\n",
    "plot, prediction = test_on_img('/home/student/Desktop/Traffic_Signs_WebApp-master/Traffic_Signs_WebApp-master/data/Test/00150.png')\n",
    "\n",
    "# Extract the predicted class from the array\n",
    "predicted_class = prediction[0]\n",
    "print(\"Predicted traffic sign is:\", classes[predicted_class])\n",
    "\n",
    "# Display the image\n",
    "plt.imshow(plot)\n",
    "plt.axis('off')  # Remove axes for cleaner display\n",
    "plt.show()\n"
   ]
  },
  {
   "cell_type": "code",
   "execution_count": null,
   "metadata": {},
   "outputs": [],
   "source": []
  }
 ],
 "metadata": {
  "kernelspec": {
   "display_name": "Python 3 (ipykernel)",
   "language": "python",
   "name": "python3"
  },
  "language_info": {
   "codemirror_mode": {
    "name": "ipython",
    "version": 3
   },
   "file_extension": ".py",
   "mimetype": "text/x-python",
   "name": "python",
   "nbconvert_exporter": "python",
   "pygments_lexer": "ipython3",
   "version": "3.10.14"
  }
 },
 "nbformat": 4,
 "nbformat_minor": 4
}
